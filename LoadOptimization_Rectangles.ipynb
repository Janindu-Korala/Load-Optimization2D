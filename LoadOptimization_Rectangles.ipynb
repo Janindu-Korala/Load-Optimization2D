{
  "nbformat": 4,
  "nbformat_minor": 0,
  "metadata": {
    "colab": {
      "provenance": [],
      "authorship_tag": "ABX9TyNfnucE5o0bl6gcytydI1tP",
      "include_colab_link": true
    },
    "kernelspec": {
      "name": "python3",
      "display_name": "Python 3"
    },
    "language_info": {
      "name": "python"
    }
  },
  "cells": [
    {
      "cell_type": "markdown",
      "metadata": {
        "id": "view-in-github",
        "colab_type": "text"
      },
      "source": [
        "<a href=\"https://colab.research.google.com/github/Janindu-Korala/Load-Optimization2D/blob/main/LoadOptimization_Rectangles.ipynb\" target=\"_parent\"><img src=\"https://colab.research.google.com/assets/colab-badge.svg\" alt=\"Open In Colab\"/></a>"
      ]
    },
    {
      "cell_type": "code",
      "execution_count": 29,
      "metadata": {
        "id": "o3Rpg_7QkXYF"
      },
      "outputs": [],
      "source": [
        "import random\n",
        "import matplotlib.pyplot as plt\n",
        "import matplotlib.patches as patches\n",
        "\n"
      ]
    },
    {
      "cell_type": "code",
      "source": [
        "#the dimensions of the container\n",
        "W, H = 200, 100"
      ],
      "metadata": {
        "id": "MAsNDlsEkwI_"
      },
      "execution_count": 30,
      "outputs": []
    },
    {
      "cell_type": "markdown",
      "source": [
        "There is a new addition which is the possibility to rotate the rectangle."
      ],
      "metadata": {
        "id": "3dH_XQ8Blqz3"
      }
    },
    {
      "cell_type": "code",
      "source": [
        "class Rectangle:\n",
        "    def __init__(self, width, height, id):\n",
        "        self.original_width = width\n",
        "        self.original_height = height\n",
        "        self.width = width\n",
        "        self.height = height\n",
        "        self.id = id\n",
        "        self.x = None\n",
        "        self.y = None\n",
        "        self.placed = False\n",
        "        self.rotated = False\n",
        "\n",
        "    def rotate(self):\n",
        "        self.width, self.height = self.height, self.width\n",
        "        self.rotated = not self.rotated\n",
        "\n",
        "    def area(self):\n",
        "        return self.width * self.height"
      ],
      "metadata": {
        "id": "W0ioSq1xk8Gq"
      },
      "execution_count": 31,
      "outputs": []
    },
    {
      "cell_type": "code",
      "source": [
        "def generate_rectangles(n, min_side=10, max_side=30):\n",
        "    rectangles = [\n",
        "        Rectangle(random.randint(min_side, max_side),\n",
        "                  random.randint(min_side, max_side),\n",
        "                  f\"R{i+1}\")\n",
        "        for i in range(n)\n",
        "    ]\n",
        "    # Sort by area descending\n",
        "    rectangles.sort(key=lambda r: r.area(), reverse=True)\n",
        "    return rectangles\n"
      ],
      "metadata": {
        "id": "fbUeWJ_Fk_01"
      },
      "execution_count": 32,
      "outputs": []
    },
    {
      "cell_type": "markdown",
      "source": [
        "The overlapping logic is same as in squares."
      ],
      "metadata": {
        "id": "N0_MH3gGl7cf"
      }
    },
    {
      "cell_type": "code",
      "source": [
        "def does_overlap(new_rect, placed_rects, x, y):\n",
        "    for rect in placed_rects:\n",
        "        if (x < rect.x + rect.width and x + new_rect.width > rect.x and\n",
        "            y < rect.y + rect.height and y + new_rect.height > rect.y):\n",
        "            return True\n",
        "    return False\n"
      ],
      "metadata": {
        "id": "MnpbZcW1lDfQ"
      },
      "execution_count": 33,
      "outputs": []
    },
    {
      "cell_type": "code",
      "source": [
        "def place_rectangles_with_rotation(rectangles):\n",
        "    placed = []\n",
        "    candidate_positions = [(0, 0)]\n",
        "\n",
        "    for rect in rectangles:\n",
        "        placed_flag = False\n",
        "        for cx, cy in sorted(candidate_positions, key=lambda p: (p[1], p[0])):   # Bottom-left first (Sort bottom to top, then left to right)\n",
        "\n",
        "            for rotate in [False, True]:      #First we try without rotating. If it cannot be placed the rectangle is then rotated\n",
        "                if rotate:\n",
        "                    rect.rotate()\n",
        "\n",
        "                if (cx + rect.width <= W and cy + rect.height <= H and\n",
        "                    not does_overlap(rect, placed, cx, cy)):\n",
        "                    rect.x, rect.y = cx, cy\n",
        "                    rect.placed = True\n",
        "                    placed.append(rect)\n",
        "\n",
        "                    # Add new positions for future placements\n",
        "                    candidate_positions.append((cx + rect.width, cy))  # right\n",
        "                    candidate_positions.append((cx, cy + rect.height))  # top\n",
        "                    placed_flag = True\n",
        "                    break\n",
        "\n",
        "                if rotate:\n",
        "                    rect.rotate()  # rotate back to original if placement is not successful.\n",
        "\n",
        "            if placed_flag:\n",
        "                break\n",
        "\n",
        "    return placed\n"
      ],
      "metadata": {
        "id": "U01KWuSalGjO"
      },
      "execution_count": 34,
      "outputs": []
    },
    {
      "cell_type": "markdown",
      "source": [
        "(R) inside the rectangle means that rectangle has been rotated."
      ],
      "metadata": {
        "id": "vyRLEqcAxa-9"
      }
    },
    {
      "cell_type": "code",
      "source": [
        "def visualize_packing(rectangles):\n",
        "    fig, ax = plt.subplots()\n",
        "    ax.set_xlim(0, W)\n",
        "    ax.set_ylim(0, H)\n",
        "    ax.set_title(\"Rectangle Packing with Rotation\")\n",
        "    for rect in rectangles:\n",
        "        if rect.placed:\n",
        "            patch = patches.Rectangle((rect.x, rect.y), rect.width, rect.height,\n",
        "                                      linewidth=1, edgecolor='blue', facecolor='lightgreen')\n",
        "            ax.add_patch(patch)\n",
        "            label = rect.id + (\" (R)\" if rect.rotated else \"\")\n",
        "            ax.text(rect.x + 2, rect.y + 2, label, fontsize=6)\n",
        "    ax.set_aspect('equal')\n",
        "    plt.grid(True)\n",
        "    plt.show()\n",
        "\n",
        "def calculate_wasted_area(rectangles):\n",
        "    used_area = sum(rect.area() for rect in rectangles if rect.placed)\n",
        "    total_area = W * H\n",
        "    return total_area - used_area\n",
        "\n",
        "rectangles = generate_rectangles(n=100)\n",
        "placed_rectangles = place_rectangles_with_rotation(rectangles)\n",
        "visualize_packing(placed_rectangles)\n",
        "wasted = calculate_wasted_area(placed_rectangles)\n",
        "print(\"Total wasted area:\", wasted)"
      ],
      "metadata": {
        "colab": {
          "base_uri": "https://localhost:8080/",
          "height": 348
        },
        "id": "6BlS7HLelLMB",
        "outputId": "130c0db9-84ba-4020-a9b9-701cb3cf695e"
      },
      "execution_count": 35,
      "outputs": [
        {
          "output_type": "display_data",
          "data": {
            "text/plain": [
              "<Figure size 640x480 with 1 Axes>"
            ],
            "image/png": "[encoded data removed]"
          },
          "metadata": {}
        },
        {
          "output_type": "stream",
          "name": "stdout",
          "text": [
            "Total wasted area: 2373\n"
          ]
        }
      ]
    }
  ]
}